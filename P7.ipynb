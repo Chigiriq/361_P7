{
 "cells": [
  {
   "cell_type": "markdown",
   "metadata": {},
   "source": [
    "Write functions that take no arguments and return strings of Hack machine language to achieve a pop of the stack to the D register and a push of the D register onto the stack. Assume a symbol \"SP\" which is the memory address of the stack pointer exists. Call these functions 'getPushD()' and 'getPopD()' respectively. Don't forget to keep the position of the stack pointer up-to-date after the push or pop is done.\n",
    "\n",
    "Instead of placing new line characters in your strings, just use commas (,) to separate the lines."
   ]
  },
  {
   "cell_type": "code",
   "execution_count": 2,
   "metadata": {},
   "outputs": [],
   "source": [
    "def getPushD():\n",
    "    #@SP \n",
    "    #A=M    start at stack pointer address\n",
    "    #M=D    save D into M\n",
    "    #@SP    go back to pointer\n",
    "    #M=M+1  index pointer to be next addr\n",
    "    return \"@SP,A=M,M=D,@SP,M=M+1,\"\n",
    "\n",
    "def getPopD():\n",
    "    #@SP \n",
    "    #M = M-1 index SP down 1\n",
    "    #A = M   go to new SP address\n",
    "    #D = M   save val in there to D\n",
    "    return \"@SP,M=M-1,A=M,D=M,\""
   ]
  },
  {
   "cell_type": "code",
   "execution_count": 25,
   "metadata": {},
   "outputs": [],
   "source": [
    "def pointerSeg(pushpop,seg,index):\n",
    "    \"\"\" This function returns Hack ML code to push a memory location to \n",
    "    to the stack, or pop the stack to a memory location. \n",
    "\n",
    "    INPUTS:\n",
    "        pushpop = a text string 'pop' means pop to memory location, 'push' \n",
    "                  is push memory location onto stack\n",
    "        seg     = the name of the segment that will be be the base address\n",
    "                  in the form of a text string\n",
    "        index   = an integer that specifies the offset from the base \n",
    "                  address specified by seg\n",
    "\n",
    "    RETURN: \n",
    "        The memory address is speficied by segment's pointer (SEGLABEL[seg]) + index (index))\n",
    "        if pushpop is 'push', push the address contents to the stack\n",
    "        if pushpop is 'pop' then pop the stack to the memory address.\n",
    "        The string returned accomplishes this. ML commands are seperated by commas (,).\n",
    "\n",
    "    NOTE: This function will only be called if the seg is one of:\n",
    "    \"local\", \"argument\", \"this\", \"that\"\n",
    "    \"\"\"\n",
    "\n",
    "    dict1 = {\"local\": \"@LCL,\", \"argument\": \"@ARG,\", \"this\": \"@THIS,\", \"that\": \"@THAT,\"}\n",
    "    # dict2 = {\"constant\":, \"static\":}\n",
    "    # dcit3 = {\"pointer\":, \"temp\":}\n",
    "\n",
    "    ans = \"@\" + str(index) + \",D=A,\"\n",
    "\n",
    "    if seg in dict1:\n",
    "        #those are pointers, meaning the RAM address associated with them in the symbol table contains\n",
    "        # a RAM address where the SEGMENT begins. INDEX specifies where to go in the SEGMENT.\n",
    "        \n",
    "        if pushpop == 'push':\n",
    "            #@index\n",
    "            #D=A\n",
    "            #@seg\n",
    "            #D=D+M  #Now at @seg + index\n",
    "\n",
    "            #getPushD()\n",
    "\n",
    "            ans = ans + dict1.get(seg) + \"A=M,A=A+D,D=M,\" + getPushD()\n",
    "            return ans\n",
    "\n",
    "        elif pushpop == 'pop':\n",
    "            #@index\n",
    "            #D=A\n",
    "\n",
    "            #@seg\n",
    "            #D=D+M   #Now at @seg + index\n",
    "            #@R13\n",
    "            #M=D     #store value temp\n",
    "\n",
    "            #getPopD()    \n",
    "\n",
    "            #@R13    \n",
    "            #A=M\n",
    "            #M=D\n",
    "\n",
    "            ans = ans + dict1.get(seg) + \"A=D+M,D=M,@R13,M=D,\" + getPopD() + \"@R13,A=M,M=D,\"\n",
    "            return ans\n",
    "\n",
    "    # elif seg in :\n",
    "        #Then something special occurs, in this case it is more akin to direct manipulation of the \n",
    "        # value in INDEX onto or off of the stack.\n",
    "        # pass\n",
    "\n",
    "\n",
    "    # elif seg in [\"pointer\", \"temp\"]:\n",
    "        #Here, the values in the memory address specified by the segment are defined, 3 and 5 \n",
    "        # respectively and not indirectly specified pointers.\n",
    "        # pass"
   ]
  },
  {
   "cell_type": "code",
   "execution_count": 26,
   "metadata": {},
   "outputs": [
    {
     "name": "stdout",
     "output_type": "stream",
     "text": [
      "Testing\n",
      "-------------------------------------\n",
      "\n",
      "Pushes\n",
      "case 1: pointerSeg('push','local',3) True\n",
      "case 2: pointerSeg('push','argument',5) True\n",
      "case 3: pointerSeg('push','this',7) True\n",
      "case 4: pointerSeg('push','that',9) True\n",
      "\n",
      "Pops\n",
      "case 1: pointerSeg('pop','local',3) True\n",
      "case 2: pointerSeg('pop','argument',5) True\n",
      "case 3: pointerSeg('pop','this',7) True\n",
      "case 4: pointerSeg('pop','that',9) True\n"
     ]
    }
   ],
   "source": [
    "print(\"Testing\\n-------------------------------------\")\n",
    "print(\"\\nPushes\")\n",
    "print(\"case 1: pointerSeg('push','local',3)\", pointerSeg(\"push\",\"local\",3) == \"@3,D=A,@LCL,A=M,A=A+D,D=M,@SP,A=M,M=D,@SP,M=M+1,\")\n",
    "print(\"case 2: pointerSeg('push','argument',5)\", pointerSeg(\"push\",\"argument\",5) == \"@5,D=A,@ARG,A=M,A=A+D,D=M,@SP,A=M,M=D,@SP,M=M+1,\")\n",
    "print(\"case 3: pointerSeg('push','this',7)\", pointerSeg(\"push\",\"this\",7) == \"@7,D=A,@THIS,A=M,A=A+D,D=M,@SP,A=M,M=D,@SP,M=M+1,\")\n",
    "print(\"case 4: pointerSeg('push','that',9)\", pointerSeg(\"push\",\"that\",9) == \"@9,D=A,@THAT,A=M,A=A+D,D=M,@SP,A=M,M=D,@SP,M=M+1,\")\n",
    "\n",
    "print(\"\\nPops\")\n",
    "print(\"case 1: pointerSeg('pop','local',3)\", pointerSeg(\"pop\",\"local\",3) == \"@3,D=A,@LCL,A=D+M,D=M,@R13,M=D,@SP,M=M-1,A=M,D=M,@R13,A=M,M=D,\")\n",
    "print(\"case 2: pointerSeg('pop','argument',5)\", pointerSeg(\"pop\",\"argument\",5) == \"@5,D=A,@ARG,A=D+M,D=M,@R13,M=D,@SP,M=M-1,A=M,D=M,@R13,A=M,M=D,\")\n",
    "print(\"case 3: pointerSeg('pop','this',7)\", pointerSeg(\"pop\",\"this\",7) == \"@7,D=A,@THIS,A=D+M,D=M,@R13,M=D,@SP,M=M-1,A=M,D=M,@R13,A=M,M=D,\")\n",
    "print(\"case 4: pointerSeg('pop','that',9)\", pointerSeg(\"pop\",\"that\",9) == \"@9,D=A,@THAT,A=D+M,D=M,@R13,M=D,@SP,M=M-1,A=M,D=M,@R13,A=M,M=D,\")\n"
   ]
  },
  {
   "cell_type": "code",
   "execution_count": null,
   "metadata": {},
   "outputs": [
    {
     "data": {
      "text/plain": [
       "'@3,D=A,@LCL,A=D+M,D=M,@R13,M=D,@SP,M=M-1,A=M,D=M,@R13,A=M,M=D,'"
      ]
     },
     "execution_count": 28,
     "metadata": {},
     "output_type": "execute_result"
    }
   ],
   "source": [
    "print(pointerSeg('push', 'local', 3))\n",
    "print(pointerSeg('pop', 'local', 3))"
   ]
  },
  {
   "cell_type": "code",
   "execution_count": null,
   "metadata": {},
   "outputs": [],
   "source": []
  }
 ],
 "metadata": {
  "kernelspec": {
   "display_name": "base",
   "language": "python",
   "name": "python3"
  },
  "language_info": {
   "codemirror_mode": {
    "name": "ipython",
    "version": 3
   },
   "file_extension": ".py",
   "mimetype": "text/x-python",
   "name": "python",
   "nbconvert_exporter": "python",
   "pygments_lexer": "ipython3",
   "version": "3.12.4"
  }
 },
 "nbformat": 4,
 "nbformat_minor": 2
}
