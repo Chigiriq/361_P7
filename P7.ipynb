{
 "cells": [
  {
   "cell_type": "markdown",
   "metadata": {},
   "source": [
    "Write functions that take no arguments and return strings of Hack machine language to achieve a pop of the stack to the D register and a push of the D register onto the stack. Assume a symbol \"SP\" which is the memory address of the stack pointer exists. Call these functions 'getPushD()' and 'getPopD()' respectively. Don't forget to keep the position of the stack pointer up-to-date after the push or pop is done.\n",
    "\n",
    "Instead of placing new line characters in your strings, just use commas (,) to separate the lines."
   ]
  },
  {
   "cell_type": "code",
   "execution_count": null,
   "metadata": {},
   "outputs": [],
   "source": [
    "def getPushD():\n",
    "    #@SP \n",
    "    #A=M    start at stack pointer address\n",
    "    #M=D    save D into M\n",
    "    #@SP    go back to pointer\n",
    "    #M=M+1  index pointer to be next addr\n",
    "    return \"@SP,A=M,M=D,@SP,M=M+1\"\n",
    "\n",
    "def getPopD():\n",
    "    #@SP \n",
    "    #M = M-1 index SP down 1\n",
    "    #A = M   go to new SP address\n",
    "    #D = M   save val in there to D\n",
    "    return \"@SP,M=M-1,A=M,D=M\""
   ]
  },
  {
   "cell_type": "code",
   "execution_count": null,
   "metadata": {},
   "outputs": [],
   "source": []
  }
 ],
 "metadata": {
  "language_info": {
   "name": "python"
  }
 },
 "nbformat": 4,
 "nbformat_minor": 2
}
